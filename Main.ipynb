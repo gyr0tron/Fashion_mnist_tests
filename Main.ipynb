{
 "cells": [
  {
   "cell_type": "code",
   "execution_count": 2,
   "metadata": {},
   "outputs": [],
   "source": [
    "import tensorflow as tf\n",
    "from tensorflow import keras\n",
    "import numpy as np\n",
    "import matplotlib.pyplot as plt"
   ]
  },
  {
   "cell_type": "markdown",
   "metadata": {},
   "source": [
    "## Data pre-processing"
   ]
  },
  {
   "cell_type": "code",
   "execution_count": 3,
   "metadata": {},
   "outputs": [
    {
     "name": "stdout",
     "output_type": "stream",
     "text": [
      "Downloading data from https://storage.googleapis.com/tensorflow/tf-keras-datasets/train-labels-idx1-ubyte.gz\n",
      "32768/29515 [=================================] - 0s 0us/step\n",
      "Downloading data from https://storage.googleapis.com/tensorflow/tf-keras-datasets/train-images-idx3-ubyte.gz\n",
      "26427392/26421880 [==============================] - 7s 0us/step\n",
      "Downloading data from https://storage.googleapis.com/tensorflow/tf-keras-datasets/t10k-labels-idx1-ubyte.gz\n",
      "8192/5148 [===============================================] - 0s 0us/step\n",
      "Downloading data from https://storage.googleapis.com/tensorflow/tf-keras-datasets/t10k-images-idx3-ubyte.gz\n",
      "4423680/4422102 [==============================] - 1s 0us/step\n"
     ]
    }
   ],
   "source": [
    "fashion_mnist = keras.datasets.fashion_mnist\n",
    "(training_images, training_labels), (test_images, test_labels) = fashion_mnist.load_data()\n",
    "class_names = ['T-shirt/top', 'Trouser', 'Pullover', 'Dress', 'Coat', 'Sandal', 'Shirt', 'Sneaker', 'Bag', 'Ankle boot']\n",
    "scaled_training_images = training_images/255\n",
    "scaled_test_images = test_images/255"
   ]
  },
  {
   "cell_type": "markdown",
   "metadata": {},
   "source": [
    "# Input, Output layers"
   ]
  },
  {
   "cell_type": "code",
   "execution_count": 23,
   "metadata": {},
   "outputs": [],
   "source": [
    "input_layer = keras.layers.Flatten(input_shape=(28, 28))  #28x28 img -> 1D data\n",
    "output_layer = keras.layers.Dense(10, activation=tf.nn.softmax)"
   ]
  },
  {
   "cell_type": "markdown",
   "metadata": {},
   "source": [
    "# Shallow NN hidden layer"
   ]
  },
  {
   "cell_type": "code",
   "execution_count": 12,
   "metadata": {},
   "outputs": [],
   "source": [
    "#hidden_layer = keras.layers.Dense(400, activation=tf.nn.relu) #400 neurons\n",
    "hidden_layer = keras.layers.Dense(100, activation=tf.nn.relu) #100 neurons"
   ]
  },
  {
   "cell_type": "markdown",
   "metadata": {},
   "source": [
    "# Compile NN"
   ]
  },
  {
   "cell_type": "code",
   "execution_count": 13,
   "metadata": {},
   "outputs": [],
   "source": [
    "shallow_neural_net = keras.Sequential([input_layer, hidden_layer, output_layer])"
   ]
  },
  {
   "cell_type": "code",
   "execution_count": 14,
   "metadata": {},
   "outputs": [],
   "source": [
    "shallow_neural_net.compile(optimizer=tf.train.AdamOptimizer(), loss='sparse_categorical_crossentropy', metrics=['accuracy'])"
   ]
  },
  {
   "cell_type": "markdown",
   "metadata": {},
   "source": [
    "# Train SNN w/ 400 neurons"
   ]
  },
  {
   "cell_type": "code",
   "execution_count": 8,
   "metadata": {
    "deletable": false,
    "editable": false
   },
   "outputs": [
    {
     "name": "stdout",
     "output_type": "stream",
     "text": [
      "Epoch 1/5\n",
      "60000/60000 [==============================] - 6s 105us/step - loss: 0.4750 - acc: 0.8311\n",
      "Epoch 2/5\n",
      "60000/60000 [==============================] - 5s 76us/step - loss: 0.3608 - acc: 0.8683\n",
      "Epoch 3/5\n",
      "60000/60000 [==============================] - 4s 75us/step - loss: 0.3248 - acc: 0.8800\n",
      "Epoch 4/5\n",
      "60000/60000 [==============================] - 5s 75us/step - loss: 0.3002 - acc: 0.8883\n",
      "Epoch 5/5\n",
      "60000/60000 [==============================] - 5s 75us/step - loss: 0.2835 - acc: 0.8959\n"
     ]
    },
    {
     "data": {
      "text/plain": [
       "<tensorflow.python.keras.callbacks.History at 0x21123abbb00>"
      ]
     },
     "execution_count": 8,
     "metadata": {},
     "output_type": "execute_result"
    }
   ],
   "source": [
    "shallow_neural_net.fit(scaled_training_images, training_labels, epochs=5)"
   ]
  },
  {
   "cell_type": "markdown",
   "metadata": {},
   "source": [
    "# Train SNN w/ 100 neurons"
   ]
  },
  {
   "cell_type": "code",
   "execution_count": 15,
   "metadata": {
    "deletable": false,
    "editable": false
   },
   "outputs": [
    {
     "name": "stdout",
     "output_type": "stream",
     "text": [
      "Epoch 1/5\n",
      "60000/60000 [==============================] - 3s 47us/step - loss: 0.5084 - acc: 0.8209\n",
      "Epoch 2/5\n",
      "60000/60000 [==============================] - 3s 42us/step - loss: 0.3834 - acc: 0.8625\n",
      "Epoch 3/5\n",
      "60000/60000 [==============================] - 2s 41us/step - loss: 0.3455 - acc: 0.8736\n",
      "Epoch 4/5\n",
      "60000/60000 [==============================] - 2s 41us/step - loss: 0.3209 - acc: 0.8831\n",
      "Epoch 5/5\n",
      "60000/60000 [==============================] - 2s 41us/step - loss: 0.3002 - acc: 0.8889\n"
     ]
    },
    {
     "data": {
      "text/plain": [
       "<tensorflow.python.keras.callbacks.History at 0x21124001da0>"
      ]
     },
     "execution_count": 15,
     "metadata": {},
     "output_type": "execute_result"
    }
   ],
   "source": [
    "shallow_neural_net.fit(scaled_training_images, training_labels, epochs=5)"
   ]
  },
  {
   "cell_type": "markdown",
   "metadata": {},
   "source": [
    "# Deep Layers w/ 400 neurons each"
   ]
  },
  {
   "cell_type": "code",
   "execution_count": 19,
   "metadata": {},
   "outputs": [],
   "source": [
    "deep_layer_1 = keras.layers.Dense(400, activation=tf.nn.relu)\n",
    "deep_layer_2 = keras.layers.Dense(400, activation=tf.nn.relu)\n",
    "deep_layer_3 = keras.layers.Dense(400, activation=tf.nn.relu)\n",
    "deep_layer_4 = keras.layers.Dense(400, activation=tf.nn.relu)\n",
    "deep_layer_5 = keras.layers.Dense(400, activation=tf.nn.relu)"
   ]
  },
  {
   "cell_type": "markdown",
   "metadata": {},
   "source": [
    "# Deep Layers w/ 100 neurons each"
   ]
  },
  {
   "cell_type": "code",
   "execution_count": 24,
   "metadata": {},
   "outputs": [],
   "source": [
    "deep_layer_1 = keras.layers.Dense(100, activation=tf.nn.relu)\n",
    "deep_layer_2 = keras.layers.Dense(100, activation=tf.nn.relu)\n",
    "deep_layer_3 = keras.layers.Dense(100, activation=tf.nn.relu)\n",
    "deep_layer_4 = keras.layers.Dense(100, activation=tf.nn.relu)\n",
    "deep_layer_5 = keras.layers.Dense(100, activation=tf.nn.relu)"
   ]
  },
  {
   "cell_type": "markdown",
   "metadata": {},
   "source": [
    "# Create DNN Object"
   ]
  },
  {
   "cell_type": "code",
   "execution_count": 25,
   "metadata": {},
   "outputs": [],
   "source": [
    "deep_neural_net = keras.Sequential([input_layer, deep_layer_1, deep_layer_2, deep_layer_3, deep_layer_4, deep_layer_5, output_layer])"
   ]
  },
  {
   "cell_type": "markdown",
   "metadata": {},
   "source": [
    "# Compile DNN"
   ]
  },
  {
   "cell_type": "code",
   "execution_count": 26,
   "metadata": {},
   "outputs": [],
   "source": [
    "deep_neural_net.compile(optimizer=tf.train.AdamOptimizer(), loss='sparse_categorical_crossentropy', metrics=['accuracy'])"
   ]
  },
  {
   "cell_type": "markdown",
   "metadata": {},
   "source": [
    "# Train DNN w/ 5 layers 400 neurons each"
   ]
  },
  {
   "cell_type": "code",
   "execution_count": 22,
   "metadata": {
    "deletable": false,
    "editable": false
   },
   "outputs": [
    {
     "name": "stdout",
     "output_type": "stream",
     "text": [
      "Epoch 1/5\n",
      "60000/60000 [==============================] - 13s 219us/step - loss: 0.5093 - acc: 0.8143\n",
      "Epoch 2/5\n",
      "60000/60000 [==============================] - 13s 209us/step - loss: 0.3865 - acc: 0.8619\n",
      "Epoch 3/5\n",
      "60000/60000 [==============================] - 12s 208us/step - loss: 0.3497 - acc: 0.8736\n",
      "Epoch 4/5\n",
      "60000/60000 [==============================] - 13s 209us/step - loss: 0.3206 - acc: 0.8829\n",
      "Epoch 5/5\n",
      "60000/60000 [==============================] - 13s 209us/step - loss: 0.3081 - acc: 0.8873\n"
     ]
    },
    {
     "data": {
      "text/plain": [
       "<tensorflow.python.keras.callbacks.History at 0x21123c48f98>"
      ]
     },
     "execution_count": 22,
     "metadata": {},
     "output_type": "execute_result"
    }
   ],
   "source": [
    "deep_neural_net.fit(scaled_training_images, training_labels, epochs=5)"
   ]
  },
  {
   "cell_type": "markdown",
   "metadata": {},
   "source": [
    "# Train DNN w/ 5 layers 100 neurons each"
   ]
  },
  {
   "cell_type": "code",
   "execution_count": 27,
   "metadata": {
    "deletable": false,
    "editable": false
   },
   "outputs": [
    {
     "name": "stdout",
     "output_type": "stream",
     "text": [
      "Epoch 1/5\n",
      "60000/60000 [==============================] - 4s 70us/step - loss: 0.5234 - acc: 0.8074\n",
      "Epoch 2/5\n",
      "60000/60000 [==============================] - 4s 65us/step - loss: 0.3821 - acc: 0.8589\n",
      "Epoch 3/5\n",
      "60000/60000 [==============================] - 4s 66us/step - loss: 0.3490 - acc: 0.8718\n",
      "Epoch 4/5\n",
      "60000/60000 [==============================] - 4s 66us/step - loss: 0.3259 - acc: 0.8806\n",
      "Epoch 5/5\n",
      "60000/60000 [==============================] - 4s 66us/step - loss: 0.3078 - acc: 0.8860\n"
     ]
    },
    {
     "data": {
      "text/plain": [
       "<tensorflow.python.keras.callbacks.History at 0x21124fd4da0>"
      ]
     },
     "execution_count": 27,
     "metadata": {},
     "output_type": "execute_result"
    }
   ],
   "source": [
    "deep_neural_net.fit(scaled_training_images, training_labels, epochs=5)"
   ]
  },
  {
   "cell_type": "markdown",
   "metadata": {},
   "source": [
    "# Evaluation"
   ]
  },
  {
   "cell_type": "code",
   "execution_count": 30,
   "metadata": {},
   "outputs": [
    {
     "name": "stdout",
     "output_type": "stream",
     "text": [
      "10000/10000 [==============================] - 0s 37us/step\n",
      "loss: 0.3485498250246048\n",
      "accuracy: 0.8751\n"
     ]
    }
   ],
   "source": [
    "loss, accuracy = deep_neural_net.evaluate(scaled_test_images, test_labels)\n",
    "print('loss: ' + str(loss))\n",
    "print('accuracy: ' + str(accuracy))"
   ]
  },
  {
   "cell_type": "markdown",
   "metadata": {},
   "source": [
    "# Predictions"
   ]
  },
  {
   "cell_type": "code",
   "execution_count": 32,
   "metadata": {},
   "outputs": [
    {
     "name": "stdout",
     "output_type": "stream",
     "text": [
      "Prediction:  Ankle boot\n",
      "Actual:  Ankle boot\n",
      "Prediction:  Pullover\n",
      "Actual:  Pullover\n",
      "Prediction:  Trouser\n",
      "Actual:  Trouser\n",
      "Prediction:  Trouser\n",
      "Actual:  Trouser\n",
      "Prediction:  Shirt\n",
      "Actual:  Shirt\n",
      "Prediction:  Trouser\n",
      "Actual:  Trouser\n",
      "Prediction:  Coat\n",
      "Actual:  Coat\n",
      "Prediction:  Shirt\n",
      "Actual:  Shirt\n",
      "Prediction:  Sandal\n",
      "Actual:  Sandal\n",
      "Prediction:  Sneaker\n",
      "Actual:  Sneaker\n",
      "Prediction:  Coat\n",
      "Actual:  Coat\n",
      "Prediction:  Sandal\n",
      "Actual:  Sandal\n",
      "Prediction:  Sandal\n",
      "Actual:  Sneaker\n",
      "Prediction:  Dress\n",
      "Actual:  Dress\n",
      "Prediction:  Coat\n",
      "Actual:  Coat\n",
      "Prediction:  Trouser\n",
      "Actual:  Trouser\n",
      "Prediction:  Pullover\n",
      "Actual:  Pullover\n",
      "Prediction:  Pullover\n",
      "Actual:  Coat\n",
      "Prediction:  Bag\n",
      "Actual:  Bag\n",
      "Prediction:  T-shirt/top\n",
      "Actual:  T-shirt/top\n",
      "Prediction:  Pullover\n",
      "Actual:  Pullover\n",
      "Prediction:  Sandal\n",
      "Actual:  Sandal\n",
      "Prediction:  Sneaker\n",
      "Actual:  Sneaker\n",
      "Prediction:  Sandal\n",
      "Actual:  Ankle boot\n",
      "Prediction:  Trouser\n",
      "Actual:  Trouser\n"
     ]
    },
    {
     "data": {
      "image/png": "[encoded data removed]",
      "text/plain": [
       "<matplotlib.figure.Figure at 0x211265b93c8>"
      ]
     },
     "metadata": {},
     "output_type": "display_data"
    }
   ],
   "source": [
    "predictions = deep_neural_net.predict(scaled_test_images)\n",
    "\n",
    "for i in range(25):\n",
    "    print(\"Prediction: \", class_names[np.argmax(predictions[i])]) #argmax for max element from list\n",
    "    print(\"Actual: \", class_names[test_labels[i]])\n",
    "    plt.imshow(test_images[i])\n",
    "    plt.show"
   ]
  }
 ],
 "metadata": {
  "kernelspec": {
   "display_name": "Python 3",
   "language": "python",
   "name": "python3"
  },
  "language_info": {
   "codemirror_mode": {
    "name": "ipython",
    "version": 3
   },
   "file_extension": ".py",
   "mimetype": "text/x-python",
   "name": "python",
   "nbconvert_exporter": "python",
   "pygments_lexer": "ipython3",
   "version": "3.6.4"
  }
 },
 "nbformat": 4,
 "nbformat_minor": 2
}
